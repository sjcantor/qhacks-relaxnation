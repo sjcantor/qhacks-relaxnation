{
 "cells": [
  {
   "cell_type": "code",
   "execution_count": 1,
   "metadata": {},
   "outputs": [
    {
     "ename": "Exception",
     "evalue": "Unable to authenticate",
     "output_type": "error",
     "traceback": [
      "\u001b[0;31m---------------------------------------------------------------------------\u001b[0m",
      "\u001b[0;31mException\u001b[0m                                 Traceback (most recent call last)",
      "\u001b[0;32m<ipython-input-1-1f52daf1dd12>\u001b[0m in \u001b[0;36m<module>\u001b[0;34m\u001b[0m\n\u001b[1;32m      7\u001b[0m \u001b[0;32mimport\u001b[0m \u001b[0mnumpy\u001b[0m \u001b[0;32mas\u001b[0m \u001b[0mnp\u001b[0m\u001b[0;34m\u001b[0m\u001b[0m\n\u001b[1;32m      8\u001b[0m \u001b[0;32mimport\u001b[0m \u001b[0mrandom\u001b[0m\u001b[0;34m\u001b[0m\u001b[0m\n\u001b[0;32m----> 9\u001b[0;31m \u001b[0;32mfrom\u001b[0m \u001b[0mspotify_api_client\u001b[0m \u001b[0;32mimport\u001b[0m \u001b[0msearch\u001b[0m\u001b[0;34m,\u001b[0m \u001b[0msearch_all\u001b[0m\u001b[0;34m,\u001b[0m \u001b[0mget\u001b[0m\u001b[0;34m\u001b[0m\u001b[0m\n\u001b[0m\u001b[1;32m     10\u001b[0m \u001b[0;34m\u001b[0m\u001b[0m\n\u001b[1;32m     11\u001b[0m \u001b[0;31m#import the trained classifier\u001b[0m\u001b[0;34m\u001b[0m\u001b[0;34m\u001b[0m\u001b[0m\n",
      "\u001b[0;32m/Library/Frameworks/Python.framework/Versions/3.7/lib/python3.7/site-packages/spotify_api_client/__init__.py\u001b[0m in \u001b[0;36m<module>\u001b[0;34m\u001b[0m\n\u001b[1;32m      5\u001b[0m \u001b[0mparse_url\u001b[0m \u001b[0;34m=\u001b[0m \u001b[0murl_parser\u001b[0m\u001b[0;34m.\u001b[0m\u001b[0mparse\u001b[0m\u001b[0;34m\u001b[0m\u001b[0m\n\u001b[1;32m      6\u001b[0m \u001b[0;34m\u001b[0m\u001b[0m\n\u001b[0;32m----> 7\u001b[0;31m \u001b[0mclient\u001b[0m \u001b[0;34m=\u001b[0m \u001b[0mRequest\u001b[0m\u001b[0;34m(\u001b[0m\u001b[0;34m)\u001b[0m\u001b[0;34m\u001b[0m\u001b[0m\n\u001b[0m\u001b[1;32m      8\u001b[0m \u001b[0mget\u001b[0m \u001b[0;34m=\u001b[0m \u001b[0mclient\u001b[0m\u001b[0;34m.\u001b[0m\u001b[0mget\u001b[0m\u001b[0;34m\u001b[0m\u001b[0m\n\u001b[1;32m      9\u001b[0m \u001b[0msearch\u001b[0m \u001b[0;34m=\u001b[0m \u001b[0mclient\u001b[0m\u001b[0;34m.\u001b[0m\u001b[0msearch\u001b[0m\u001b[0;34m\u001b[0m\u001b[0m\n",
      "\u001b[0;32m/Library/Frameworks/Python.framework/Versions/3.7/lib/python3.7/site-packages/spotify_api_client/request.py\u001b[0m in \u001b[0;36m__init__\u001b[0;34m(self)\u001b[0m\n\u001b[1;32m     18\u001b[0m         \u001b[0mself\u001b[0m\u001b[0;34m.\u001b[0m\u001b[0mclient_id\u001b[0m \u001b[0;34m=\u001b[0m \u001b[0mgetenv\u001b[0m\u001b[0;34m(\u001b[0m\u001b[0;34m'CLIENT_ID'\u001b[0m\u001b[0;34m)\u001b[0m\u001b[0;34m\u001b[0m\u001b[0m\n\u001b[1;32m     19\u001b[0m         \u001b[0mself\u001b[0m\u001b[0;34m.\u001b[0m\u001b[0mclient_secret\u001b[0m \u001b[0;34m=\u001b[0m \u001b[0mgetenv\u001b[0m\u001b[0;34m(\u001b[0m\u001b[0;34m'CLIENT_SECRET'\u001b[0m\u001b[0;34m)\u001b[0m\u001b[0;34m\u001b[0m\u001b[0m\n\u001b[0;32m---> 20\u001b[0;31m         \u001b[0mself\u001b[0m\u001b[0;34m.\u001b[0m\u001b[0m__authenticate\u001b[0m\u001b[0;34m(\u001b[0m\u001b[0;34m)\u001b[0m\u001b[0;34m\u001b[0m\u001b[0m\n\u001b[0m\u001b[1;32m     21\u001b[0m \u001b[0;34m\u001b[0m\u001b[0m\n\u001b[1;32m     22\u001b[0m     \u001b[0;32mdef\u001b[0m \u001b[0mget\u001b[0m\u001b[0;34m(\u001b[0m\u001b[0mself\u001b[0m\u001b[0;34m,\u001b[0m \u001b[0murl\u001b[0m\u001b[0;34m,\u001b[0m \u001b[0mquery\u001b[0m\u001b[0;34m=\u001b[0m\u001b[0;34m{\u001b[0m\u001b[0;34m}\u001b[0m\u001b[0;34m,\u001b[0m \u001b[0mparsed\u001b[0m\u001b[0;34m=\u001b[0m\u001b[0;32mFalse\u001b[0m\u001b[0;34m)\u001b[0m\u001b[0;34m:\u001b[0m\u001b[0;34m\u001b[0m\u001b[0m\n",
      "\u001b[0;32m/Library/Frameworks/Python.framework/Versions/3.7/lib/python3.7/site-packages/spotify_api_client/request.py\u001b[0m in \u001b[0;36m__authenticate\u001b[0;34m(self)\u001b[0m\n\u001b[1;32m     65\u001b[0m                            data=payload, headers=headers)\n\u001b[1;32m     66\u001b[0m         \u001b[0;32mif\u001b[0m \u001b[0mresponse\u001b[0m\u001b[0;34m.\u001b[0m\u001b[0mstatus_code\u001b[0m \u001b[0;34m!=\u001b[0m \u001b[0;36m200\u001b[0m\u001b[0;34m:\u001b[0m\u001b[0;34m\u001b[0m\u001b[0m\n\u001b[0;32m---> 67\u001b[0;31m             \u001b[0;32mraise\u001b[0m \u001b[0mException\u001b[0m\u001b[0;34m(\u001b[0m\u001b[0;34m'Unable to authenticate'\u001b[0m\u001b[0;34m)\u001b[0m\u001b[0;34m\u001b[0m\u001b[0m\n\u001b[0m\u001b[1;32m     68\u001b[0m         \u001b[0mparsed_response\u001b[0m \u001b[0;34m=\u001b[0m \u001b[0mjson\u001b[0m\u001b[0;34m.\u001b[0m\u001b[0mloads\u001b[0m\u001b[0;34m(\u001b[0m\u001b[0mresponse\u001b[0m\u001b[0;34m.\u001b[0m\u001b[0mtext\u001b[0m\u001b[0;34m)\u001b[0m\u001b[0;34m\u001b[0m\u001b[0m\n\u001b[1;32m     69\u001b[0m         \u001b[0mself\u001b[0m\u001b[0;34m.\u001b[0m\u001b[0maccess_token\u001b[0m \u001b[0;34m=\u001b[0m \u001b[0mparsed_response\u001b[0m\u001b[0;34m[\u001b[0m\u001b[0;34m'access_token'\u001b[0m\u001b[0;34m]\u001b[0m\u001b[0;34m\u001b[0m\u001b[0m\n",
      "\u001b[0;31mException\u001b[0m: Unable to authenticate"
     ]
    }
   ],
   "source": [
    "#Accept a genre from the website, return a song ID that will interest the listener\n",
    "\n",
    "#import necessary libraries\n",
    "from sklearn import tree\n",
    "from sklearn.externals import joblib\n",
    "import pandas as pd\n",
    "import numpy as np\n",
    "import random\n",
    "from spotify_api_client import search, search_all, get\n",
    "\n",
    "#import the trained classifier\n",
    "classifier = joblib.load(\"best_classifier.joblib\")"
   ]
  },
  {
   "cell_type": "code",
   "execution_count": 33,
   "metadata": {},
   "outputs": [],
   "source": [
    "#use clf2 to accept a genre as input, check the new songs playlist \n",
    "#on spotify for songs with matching genre, return song ID\n",
    "\n",
    "def get_track(genre, tree):\n",
    "    genre = str(genre)\n",
    "    proceed = True\n",
    "    pl_list = ['new music friday', 'singled out', 'new music friday uk', \n",
    "               'new music friday canada', 'new music friday au'] \n",
    "    rand_int = random.randint(0,4)\n",
    "    #goes to 'new music friday' playlist which is updated by spotify\n",
    "    print(rand_int)\n",
    "    print(f\"the playlist: {pl_list[rand_int]}\")\n",
    "    \n",
    "    playlist_id = search(pl_list[rand_int], 'playlist') #returns id of first search result in a string\n",
    "    playlist_data = get(f'v1/playlists/{playlist_id}/tracks') #array of song data\n",
    "    \n",
    "    num_array = np.linspace(0,98, 99)\n",
    "    int_array = [ int(x) for x in num_array]\n",
    "    \n",
    "    while proceed == True:\n",
    "    \n",
    "        index = random.randint(0, len(int_array)-1)\n",
    "        n = int_array[index]\n",
    "        print(index, n)\n",
    "    \n",
    "        track_id = playlist_data['items'][n]['track']['id']\n",
    "        try:\n",
    "            track_data = get(f'v1/audio-features/{track_id}')\n",
    "    \n",
    "            key = track_data['key']\n",
    "            time_sig = track_data['time_signature']\n",
    "            acst = track_data['acousticness']\n",
    "            dance = track_data['danceability']\n",
    "            enrg = track_data['energy']\n",
    "            loud = track_data['loudness']\n",
    "            tempo = track_data['tempo']\n",
    "            speech = track_data['speechiness']\n",
    "            instrum = track_data['instrumentalness']\n",
    "        \n",
    "            track_features = [speech, instrum, key, time_sig, acst, dance, enrg, loud, tempo]\n",
    "            #print(track_features)\n",
    "        \n",
    "            result = tree.predict([track_features])\n",
    "            #print(result)\n",
    "            \n",
    "        except:\n",
    "            result = 'invalid'\n",
    "            #print(result)\n",
    "        \n",
    "        int_array = np.delete(int_array, index)\n",
    "        print(result, track_id)\n",
    "        \n",
    "        if result == genre:\n",
    "            return track_id\n",
    "            break"
   ]
  },
  {
   "cell_type": "code",
   "execution_count": 34,
   "metadata": {},
   "outputs": [
    {
     "name": "stdout",
     "output_type": "stream",
     "text": [
      "1\n",
      "the playlist: singled out\n",
      "8 8\n",
      "['calm'] 7LiB4afKxBBHzr3jxR6U1H\n",
      "20 21\n",
      "['sad'] 3qLBz3j26AHO2jBYUQWLA6\n",
      "25 27\n",
      "['happy'] 17LZZKdizjAKunbK4wtLTW\n"
     ]
    },
    {
     "data": {
      "text/plain": [
       "'17LZZKdizjAKunbK4wtLTW'"
      ]
     },
     "execution_count": 34,
     "metadata": {},
     "output_type": "execute_result"
    }
   ],
   "source": [
    "get_track('happy', classifier)"
   ]
  },
  {
   "cell_type": "code",
   "execution_count": null,
   "metadata": {},
   "outputs": [],
   "source": []
  },
  {
   "cell_type": "code",
   "execution_count": null,
   "metadata": {},
   "outputs": [],
   "source": []
  }
 ],
 "metadata": {
  "kernelspec": {
   "display_name": "Python 3",
   "language": "python",
   "name": "python3"
  },
  "language_info": {
   "codemirror_mode": {
    "name": "ipython",
    "version": 3
   },
   "file_extension": ".py",
   "mimetype": "text/x-python",
   "name": "python",
   "nbconvert_exporter": "python",
   "pygments_lexer": "ipython3",
   "version": "3.7.0"
  }
 },
 "nbformat": 4,
 "nbformat_minor": 2
}
