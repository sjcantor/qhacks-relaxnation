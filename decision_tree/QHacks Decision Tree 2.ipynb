{
 "cells": [
  {
   "cell_type": "code",
   "execution_count": 33,
   "metadata": {},
   "outputs": [],
   "source": [
    "#Classify songs as happy, sad, angry, or calm\n",
    "\n",
    "#Make 5 separate decision trees, trained with 5 separate data sets\n",
    "#Run predicitons through every decision tree, take most popular response\n",
    "#combination of decision trees improves accuracy\n",
    "\n",
    "from sklearn import tree\n",
    "from sklearn.externals import joblib\n",
    "import pandas as pd\n",
    "from spotify_api_client import search, search_all, get\n",
    "\n",
    "classifier = joblib.load(\"genre_classifier.joblib\")"
   ]
  },
  {
   "cell_type": "code",
   "execution_count": 15,
   "metadata": {},
   "outputs": [],
   "source": [
    "# Read the CSVs\n",
    "\n",
    "filenames = ['train_data0.csv', 'train_data1.csv', 'train_data2.csv', 'train_data3.csv', 'train_data4.csv']\n",
    "dataframes = []\n",
    "\n",
    "for f in filenames:\n",
    "    dataframes.append(pd.read_csv(f)) #now have cvs's as df's in a list\n",
    "\n",
    "#merge into one dataframe\n",
    "df_train = pd.concat(dataframes, axis = 0, ignore_index = True)\n",
    "\n",
    "df_test = pd.read_csv('test_data0.csv')\n",
    "\n",
    "csv_loc = '/Users/Jill/Documents/QMIND_Music_jpnb/'\n",
    "#export the data to the csv\n",
    "export_csv = df_train.to_csv (f'{csv_loc}master_data.csv', index = None, header=True)"
   ]
  },
  {
   "cell_type": "code",
   "execution_count": 16,
   "metadata": {},
   "outputs": [],
   "source": [
    "# Relevant columns for features and labels\n",
    "fields = ['speechiness', 'instrumentalness', 'key', 'time signature', 'acousticness',\n",
    "                    'danceability', 'energy', 'loudness', 'tempo']\n",
    "label_field = 'genre'\n",
    "\n",
    "# Reading features and labels from the dataframe\n",
    "train_features = df_train.loc[:, fields].values\n",
    "train_labels = df_train.loc[:, label_field].values\n",
    "\n",
    "test_features = df_test.loc[:, fields].values\n",
    "test_labels = df_test.loc[:, label_field].values\n",
    "\n",
    "#create & train the decision tree\n",
    "clf = tree.DecisionTreeClassifier() #importing the decision tree classifier\n",
    "clf = clf.fit(train_features, train_labels) #create learning algorithm"
   ]
  },
  {
   "cell_type": "code",
   "execution_count": 17,
   "metadata": {},
   "outputs": [
    {
     "name": "stdout",
     "output_type": "stream",
     "text": [
      "Accuracy of tree: 53.75\n"
     ]
    }
   ],
   "source": [
    "#loop over every song, predict, compare to real value, keep track of accuracy\n",
    "score = 0\n",
    "for i, feature in enumerate(test_features):\n",
    "    result = clf.predict([feature])\n",
    "    \n",
    "    if (result == test_labels[i]):\n",
    "        score += 1\n",
    "        \n",
    "accuracy = (score/len(test_features))*100\n",
    "print(f'Accuracy of tree: {accuracy}')"
   ]
  },
  {
   "cell_type": "code",
   "execution_count": 30,
   "metadata": {},
   "outputs": [],
   "source": [
    "#use clf2 to accept a genre as input, check the new songs playlist \n",
    "#on spotify for songs with matching genre, return song ID\n",
    "\n",
    "def get_track(genre, tree):\n",
    "    genre = str(genre)\n",
    "    pl = 'new music friday'\n",
    "    \n",
    "    playlist_id = search(pl, 'playlist') #returns id of first search result in a string\n",
    "    #print('playlist id:', playlist_id)\n",
    "    playlist_data = get(f'v1/playlists/{playlist_id}/tracks')\n",
    "    \n",
    "    for n in range(100):\n",
    "    \n",
    "        track_id = playlist_data['items'][n]['track']['id']\n",
    "        #print('track_id', track_id)\n",
    "        try:\n",
    "            track_data = get(f'v1/audio-features/{track_id}')\n",
    "    \n",
    "            key = track_data['key']\n",
    "            time_sig = track_data['time_signature']\n",
    "            acst = track_data['acousticness']\n",
    "            dance = track_data['danceability']\n",
    "            enrg = track_data['energy']\n",
    "            loud = track_data['loudness']\n",
    "            tempo = track_data['tempo']\n",
    "            speech = track_data['speechiness']\n",
    "            instrum = track_data['instrumentalness']\n",
    "        \n",
    "            track_features = [speech, instrum, key, time_sig, acst, dance, enrg, loud, tempo]\n",
    "            #print(track_features)\n",
    "        \n",
    "            result = tree.predict([track_features])\n",
    "            #print(result)\n",
    "            \n",
    "        except:\n",
    "            result = 'invalid'\n",
    "            #print(result)\n",
    "        \n",
    "        if result == genre:\n",
    "            return track_id\n",
    "            break"
   ]
  },
  {
   "cell_type": "code",
   "execution_count": 34,
   "metadata": {},
   "outputs": [
    {
     "name": "stdout",
     "output_type": "stream",
     "text": [
      "playlist id: 37i9dQZF1DX4JAvHpjipBk\n",
      "track_id 4NzMOnvSJVNKF7nw5NkXIP\n",
      "track_id 2v5JTeM6hSmi5wWy7jiwrI\n",
      "2v5JTeM6hSmi5wWy7jiwrI\n"
     ]
    }
   ],
   "source": [
    "print(get_track('happy', classifier))"
   ]
  },
  {
   "cell_type": "code",
   "execution_count": null,
   "metadata": {},
   "outputs": [],
   "source": []
  }
 ],
 "metadata": {
  "kernelspec": {
   "display_name": "Python 3",
   "language": "python",
   "name": "python3"
  },
  "language_info": {
   "codemirror_mode": {
    "name": "ipython",
    "version": 3
   },
   "file_extension": ".py",
   "mimetype": "text/x-python",
   "name": "python",
   "nbconvert_exporter": "python",
   "pygments_lexer": "ipython3",
   "version": "3.7.0"
  }
 },
 "nbformat": 4,
 "nbformat_minor": 2
}
