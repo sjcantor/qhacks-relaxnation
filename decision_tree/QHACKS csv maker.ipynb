{
 "cells": [
  {
   "cell_type": "code",
   "execution_count": 94,
   "metadata": {},
   "outputs": [],
   "source": [
    "from spotify_api_client import get, search, search_all\n",
    "#'search' returns ID of first search result\n",
    "#'search_all' returns first 20 search results\n",
    "#'get' requires url and ID\n",
    "import requests\n",
    "import pandas as pd"
   ]
  },
  {
   "cell_type": "code",
   "execution_count": 98,
   "metadata": {},
   "outputs": [],
   "source": [
    "#this function accesses a spotify playlist, retrieves track information, and adds it to the csv\n",
    "def get_30_songs(playlist):\n",
    "    rows_list = [] #empty list to turn into a csv later\n",
    "    playlist_id = search(playlist, 'playlist') #returns id of first search result in a string\n",
    "    \n",
    "    playlist_data = get(f'v1/playlists/{playlist_id}/tracks') #returns giant dictionary of playlist track features\n",
    "    \n",
    "    print(playlist_id, playlist)\n",
    "    \n",
    "    #classify the genre of songs in this playlist\n",
    "    if 'sad' in str(playlist):\n",
    "        genre = 'sad'\n",
    "    if 'happy' in str(playlist):\n",
    "        genre = 'happy'\n",
    "    if 'relax' in str(playlist):\n",
    "        genre = 'calm'\n",
    "    if 'chill' in str(playlist):\n",
    "        genre = 'calm'\n",
    "    if 'calm' in str(playlist):\n",
    "        genre = 'calm'\n",
    "    if 'angry' in str(playlist):\n",
    "        genre = 'angry'\n",
    "    \n",
    "    print(genre)\n",
    "    \n",
    "    n = 0 #'n' will propagate through all songs in the playlist\n",
    "    \n",
    "    while n < 40: #loop over first 40 songs in the 'items' array\n",
    "        \n",
    "        track_id = playlist_data['items'][n]['track']['id'] #get the ID\n",
    "        #track_name = playlist_data['items'][n]['track']['name']\n",
    "        song_data = get(f'v1/audio-features/{track_id}')\n",
    "        \n",
    "        #best keys: 'danceability', 'energy', 'loudness', 'speechiness', 'instrumentalness', 'tempo'\n",
    "        key = song_data['key']\n",
    "        time_sig = song_data['time_signature']\n",
    "        acst = song_data['acousticness']\n",
    "        dance = song_data['danceability']\n",
    "        enrg = song_data['energy']\n",
    "        loud = song_data['loudness']\n",
    "        tempo = song_data['tempo']\n",
    "        speech = song_data['speechiness']\n",
    "        instrum = song_data['instrumentalness']\n",
    "        \n",
    "        #store the data in a dictionary\n",
    "        new_row = {'song_id': track_id, 'speechiness': speech, 'instrumentalness': instrum,\n",
    "                       'danceability': dance, 'energy': enrg, 'loudness': loud, 'tempo': tempo,\n",
    "                   'key': key, 'time signature': time_sig, 'acousticness': acst, 'genre': f'{genre}'}\n",
    "            \n",
    "        #if new album, add this data to a new row in the list that will become the csv\n",
    "        rows_list.append(new_row)\n",
    "            \n",
    "        n +=1\n",
    "        #print(n)\n",
    "    \n",
    "    return rows_list\n",
    "\n",
    "    \n",
    "def make_csv(rowList, num):\n",
    "    #create a csv from the finish row of lists and export it\n",
    "    df = pd.DataFrame(rowList)\n",
    "    df = df[['song_id', 'speechiness', 'instrumentalness', 'key', 'time signature', 'acousticness',\n",
    "                       'danceability', 'energy', 'loudness', 'tempo', 'genre']]\n",
    "    #print(df)\n",
    "    csv_loc = '/Users/Jill/Documents/QMIND_Music_jpnb/'\n",
    "    #export the data to the csv\n",
    "    export_csv = df.to_csv (f'{csv_loc}train_data{num}.csv', index = None, header=True)\n",
    "    print('csv should be exported')"
   ]
  },
  {
   "cell_type": "code",
   "execution_count": 96,
   "metadata": {},
   "outputs": [],
   "source": [
    "sad_test = 'sad breakup songs'\n",
    "happy_test = 'happy Days'\n",
    "calm_test = 'acoustic calm'\n",
    "angry_test = 'angry workout'"
   ]
  },
  {
   "cell_type": "code",
   "execution_count": 97,
   "metadata": {},
   "outputs": [
    {
     "name": "stdout",
     "output_type": "stream",
     "text": [
      "32F48ZXmNgzFQ1aVHNa0gb sad breakup songs\n",
      "sad\n",
      "37i9dQZF1DX84kJlLdo9vT happy Days\n",
      "happy\n",
      "37i9dQZF1DXaImRpG7HXqp acoustic calm\n",
      "calm\n",
      "5qUWjT1fYzj9zwstkkOWjf angry workout\n",
      "angry\n",
      "csv should be exported\n"
     ]
    }
   ],
   "source": [
    "sad_test_list = get_30_songs(sad_test)\n",
    "happy_test_list = get_30_songs(happy_test)\n",
    "calm_test_list = get_30_songs(calm_test)\n",
    "angry_test_list= get_30_songs(angry_test)\n",
    "\n",
    "total_test_list = sad_test_list + happy_test_list + calm_test_list + angry_test_list\n",
    "make_csv(total_test_list, 0)"
   ]
  },
  {
   "cell_type": "code",
   "execution_count": 99,
   "metadata": {},
   "outputs": [
    {
     "name": "stdout",
     "output_type": "stream",
     "text": [
      "37i9dQZF1DX7qK8ma5wgG1 sad songs );\n",
      "sad\n",
      "2GYqYpH2stKX2hNodRIX7y friday feeling happy songs\n",
      "happy\n",
      "37i9dQZF1DWU0ScTcjJBdj relax & unwind\n",
      "calm\n",
      "1aUGVrGipiT9vOb11jO4n4 angry/rock\n",
      "angry\n",
      "csv should be exported\n",
      "7zsSmcyvOQSuXZ2ZJ28Afb sad songs 2018\n",
      "sad\n",
      "37i9dQZF1DXdPec7aLTmlC happy hits!\n",
      "happy\n",
      "37i9dQZF1DX4WYpdgoIcn6 chill hits\n",
      "calm\n",
      "71Xpaq3Hbpxz6w9yDmIsaH angry music\n",
      "angry\n",
      "csv should be exported\n",
      "4Sdc0wQI8JxWeUOgKizMg0 sad songs heartbreak songs\n",
      "sad\n",
      "37i9dQZF1DX9u7XXOp0l5L happy tunes\n",
      "happy\n",
      "37i9dQZF1DXci7j0DJQgGp hanging out and relaxing\n",
      "calm\n",
      "3FgKMEAMkBOscuTQTNJiTN angry music to lift heavy shit to\n",
      "angry\n",
      "csv should be exported\n",
      "51IIzXB9EwhAjqu19Uh4HS sad musics for sad days\n",
      "sad\n",
      "37i9dQZF1DX4uPi2roRUwU happy dance\n",
      "happy\n",
      "37i9dQZF1DX3SQwW1JbaFt pop relax\n",
      "calm\n",
      "48zs9ygC4jOvfn4sSt9RjB angry women\n",
      "angry\n",
      "csv should be exported\n",
      "45qttGIMwSEVmuM6sZ1lzq sad music to make you sad\n",
      "sad\n",
      "37i9dQZF1DX1H4LbvY4OJi happy pop\n",
      "happy\n",
      "4D3hxAbOjVu5jaC5Bnlmky relaxing songs\n",
      "calm\n",
      "6oxSqwtAseyUm65MWl8JEM angry rapp\n",
      "angry\n",
      "csv should be exported\n"
     ]
    }
   ],
   "source": [
    "sad = ['sad songs );', 'sad songs 2018', 'sad songs heartbreak songs', 'sad musics for sad days', 'sad music to make you sad']\n",
    "happy = ['friday feeling happy songs', 'happy hits!', 'happy tunes', 'happy dance', 'happy pop']\n",
    "calm = ['relax & unwind', 'chill hits', 'hanging out and relaxing', 'pop relax', 'relaxing songs']\n",
    "angry = ['angry/rock', 'angry music', 'angry music to lift heavy shit to', 'angry women', 'angry rapp']\n",
    "\n",
    "for k in range(5):\n",
    "\n",
    "    sad_train_list = get_30_songs(sad[k])\n",
    "    happy_train_list = get_30_songs(happy[k])\n",
    "    calm_train_list = get_30_songs(calm[k])\n",
    "    angry_train_list = get_30_songs(angry[k])\n",
    "    \n",
    "    total_train_list = sad_train_list + happy_train_list + calm_train_list + angry_train_list\n",
    "    \n",
    "    make_csv(total_train_list, k)"
   ]
  },
  {
   "cell_type": "code",
   "execution_count": null,
   "metadata": {},
   "outputs": [],
   "source": []
  },
  {
   "cell_type": "code",
   "execution_count": null,
   "metadata": {},
   "outputs": [],
   "source": []
  },
  {
   "cell_type": "code",
   "execution_count": null,
   "metadata": {},
   "outputs": [],
   "source": []
  }
 ],
 "metadata": {
  "kernelspec": {
   "display_name": "Python 3",
   "language": "python",
   "name": "python3"
  },
  "language_info": {
   "codemirror_mode": {
    "name": "ipython",
    "version": 3
   },
   "file_extension": ".py",
   "mimetype": "text/x-python",
   "name": "python",
   "nbconvert_exporter": "python",
   "pygments_lexer": "ipython3",
   "version": "3.7.0"
  }
 },
 "nbformat": 4,
 "nbformat_minor": 2
}
